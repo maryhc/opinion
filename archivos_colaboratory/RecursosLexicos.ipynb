{
  "cells": [
    {
      "cell_type": "code",
      "execution_count": 3,
      "metadata": {
        "colab": {
          "base_uri": "https://localhost:8080/"
        },
        "id": "CcqMZbTHvSWK",
        "outputId": "c1783792-fd44-4b15-e182-45088199bc93"
      },
      "outputs": [
        {
          "output_type": "stream",
          "name": "stdout",
          "text": [
            "Cloning into 'opinion'...\n",
            "remote: Enumerating objects: 52, done.\u001b[K\n",
            "remote: Counting objects: 100% (52/52), done.\u001b[K\n",
            "remote: Compressing objects: 100% (35/35), done.\u001b[K\n",
            "remote: Total 52 (delta 25), reused 41 (delta 14), pack-reused 0\u001b[K\n",
            "Unpacking objects: 100% (52/52), done.\n"
          ]
        }
      ],
      "source": [
        "!git clone https://github.com/maryhc/opinion.git\n",
        "#%cd /content\n",
        "#!git pull"
      ]
    },
    {
      "cell_type": "code",
      "execution_count": 16,
      "metadata": {
        "colab": {
          "base_uri": "https://localhost:8080/"
        },
        "id": "7GVS_uNFjS7w",
        "outputId": "6fb53bd5-7a51-478f-b631-235b521f0ccc"
      },
      "outputs": [
        {
          "output_type": "stream",
          "name": "stdout",
          "text": [
            "[nltk_data] Downloading package punkt to /root/nltk_data...\n",
            "[nltk_data]   Package punkt is already up-to-date!\n"
          ]
        },
        {
          "output_type": "execute_result",
          "data": {
            "text/plain": [
              "True"
            ]
          },
          "metadata": {},
          "execution_count": 16
        }
      ],
      "source": [
        "import re, string, unicodedata\n",
        "import nltk\n",
        "from nltk.corpus import stopwords\n",
        "nltk.download('punkt')"
      ]
    },
    {
      "cell_type": "code",
      "execution_count": 10,
      "metadata": {
        "id": "sL2jrZg9vEPz"
      },
      "outputs": [],
      "source": [
        "#file_name = open('/content/opinion/corpus/tweets.txt').read()\n",
        "#file_name_mod = file_name.replace(\".txt\",\"\")\n",
        "file_name_mod = \"tweetsn.txt\"\n",
        "mod_file = open(file_name_mod,\"w\")\n",
        "raw_file = open('/content/opinion/corpus/tweets.txt').read()\n",
        "\n",
        "for x in raw_file:\n",
        "\t\txf = x.replace(\"!\",\" \")\n",
        "\t\txf = x.lower()\n",
        "\t\tmod_file.write(xf)"
      ]
    },
    {
      "cell_type": "code",
      "source": [
        "def remove_non_ascii(words):\n",
        "    new_words = []\n",
        "    for word in words:\n",
        "        new_word = unicodedata.normalize('NFKD', word).encode('ascii', 'ignore').decode('utf-8', 'ignore')\n",
        "        new_words.append(new_word)\n",
        "    return new_words      "
      ],
      "metadata": {
        "id": "ixtPA84pt4yE"
      },
      "execution_count": 14,
      "outputs": []
    },
    {
      "cell_type": "code",
      "source": [
        "sample = open('/content/tweetsn.txt').read()\n",
        "words = nltk.word_tokenize(sample)\n",
        "words = remove_non_ascii(words)"
      ],
      "metadata": {
        "id": "Ljg2tx11ujLh"
      },
      "execution_count": 17,
      "outputs": []
    },
    {
      "cell_type": "code",
      "source": [
        ""
      ],
      "metadata": {
        "id": "2fOvKkXTiDDr"
      },
      "execution_count": null,
      "outputs": []
    }
  ],
  "metadata": {
    "colab": {
      "collapsed_sections": [],
      "name": "RecursosLexicos.ipynb",
      "provenance": []
    },
    "kernelspec": {
      "display_name": "Python 3",
      "name": "python3"
    },
    "language_info": {
      "name": "python"
    }
  },
  "nbformat": 4,
  "nbformat_minor": 0
}